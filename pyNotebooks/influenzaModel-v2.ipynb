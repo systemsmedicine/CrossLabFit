{
 "cells": [
  {
   "cell_type": "markdown",
   "id": "9d3fef66-20fb-4884-a758-82b8c04ae09f",
   "metadata": {},
   "source": [
    "# Modeling Influenza A PR8 (H1N1) in the lungs of mice\n",
    "\n",
    "This notebook plots the results of parameter optimization using a classical estimation approach and our Integrative Parameter Estimation (IPE) approach."
   ]
  },
  {
   "cell_type": "code",
   "execution_count": 100,
   "id": "aefd2881-9e1d-4fb8-832f-827f904ad80e",
   "metadata": {},
   "outputs": [],
   "source": [
    "import numpy as np\n",
    "import pandas as pd\n",
    "from scipy.integrate import odeint\n",
    "import matplotlib.pyplot as plt\n",
    "\n",
    "plt.rcParams['xtick.labelsize'] = 14\n",
    "plt.rcParams['ytick.labelsize'] = 14\n",
    "plt.rcParams['font.size'] = 16\n",
    "plt.rcParams['font.family'] = 'serif'\n",
    "plt.rcParams['text.usetex'] = True\n",
    "\n",
    "import seaborn as sns"
   ]
  },
  {
   "cell_type": "code",
   "execution_count": 101,
   "id": "4e9fc0b3-54a3-43e6-b274-bb3b2838c0e0",
   "metadata": {},
   "outputs": [
    {
     "data": {
      "text/html": [
       "<svg  width=\"440\" height=\"55\"><rect x=\"0\" y=\"0\" width=\"55\" height=\"55\" style=\"fill:#482878;stroke-width:2;stroke:rgb(255,255,255)\"/><rect x=\"55\" y=\"0\" width=\"55\" height=\"55\" style=\"fill:#3e4989;stroke-width:2;stroke:rgb(255,255,255)\"/><rect x=\"110\" y=\"0\" width=\"55\" height=\"55\" style=\"fill:#31688e;stroke-width:2;stroke:rgb(255,255,255)\"/><rect x=\"165\" y=\"0\" width=\"55\" height=\"55\" style=\"fill:#26828e;stroke-width:2;stroke:rgb(255,255,255)\"/><rect x=\"220\" y=\"0\" width=\"55\" height=\"55\" style=\"fill:#1f9e89;stroke-width:2;stroke:rgb(255,255,255)\"/><rect x=\"275\" y=\"0\" width=\"55\" height=\"55\" style=\"fill:#35b779;stroke-width:2;stroke:rgb(255,255,255)\"/><rect x=\"330\" y=\"0\" width=\"55\" height=\"55\" style=\"fill:#6ece58;stroke-width:2;stroke:rgb(255,255,255)\"/><rect x=\"385\" y=\"0\" width=\"55\" height=\"55\" style=\"fill:#b5de2b;stroke-width:2;stroke:rgb(255,255,255)\"/></svg>"
      ],
      "text/plain": [
       "[(0.281412, 0.155834, 0.469201),\n",
       " (0.244972, 0.287675, 0.53726),\n",
       " (0.190631, 0.407061, 0.556089),\n",
       " (0.147607, 0.511733, 0.557049),\n",
       " (0.119699, 0.61849, 0.536347),\n",
       " (0.20803, 0.718701, 0.472873),\n",
       " (0.430983, 0.808473, 0.346476),\n",
       " (0.709898, 0.868751, 0.169257)]"
      ]
     },
     "execution_count": 101,
     "metadata": {},
     "output_type": "execute_result"
    }
   ],
   "source": [
    "palette = sns.color_palette('viridis', n_colors=8)\n",
    "palette"
   ]
  },
  {
   "cell_type": "code",
   "execution_count": 102,
   "id": "8aa0a205-4060-4030-9eb4-fcc3e77c8fc1",
   "metadata": {},
   "outputs": [
    {
     "data": {
      "text/html": [
       "<svg  width=\"165\" height=\"55\"><rect x=\"0\" y=\"0\" width=\"55\" height=\"55\" style=\"fill:#611f53;stroke-width:2;stroke:rgb(255,255,255)\"/><rect x=\"55\" y=\"0\" width=\"55\" height=\"55\" style=\"fill:#cb1b4f;stroke-width:2;stroke:rgb(255,255,255)\"/><rect x=\"110\" y=\"0\" width=\"55\" height=\"55\" style=\"fill:#f58860;stroke-width:2;stroke:rgb(255,255,255)\"/></svg>"
      ],
      "text/plain": [
       "[(0.38092887, 0.12061482, 0.32506528),\n",
       " (0.7965014, 0.10506637, 0.31063031),\n",
       " (0.95922872, 0.53307513, 0.3748895)]"
      ]
     },
     "execution_count": 102,
     "metadata": {},
     "output_type": "execute_result"
    }
   ],
   "source": [
    "palette_2 = sns.color_palette('rocket', n_colors=3)\n",
    "palette_2"
   ]
  },
  {
   "cell_type": "markdown",
   "id": "94c25acd-9c21-4d85-a49c-87140b2af979",
   "metadata": {},
   "source": [
    "## Lung Target Cell Model\n",
    "Define the target cell model with T cell compartment\n",
    "\n",
    "\\begin{align}\n",
    "\\dot U &= - \\beta U V \\\\\n",
    "\\dot I &= \\beta U V - \\delta_I T I \\\\\n",
    "\\dot V &= p I - c V \\\\\n",
    "\\dot T &= \\delta_T T_0 + r T V - \\delta_T T\n",
    "\\end{align}"
   ]
  },
  {
   "cell_type": "code",
   "execution_count": 103,
   "id": "4f27999a-e666-4ca7-803a-a97868deb2cd",
   "metadata": {},
   "outputs": [],
   "source": [
    "def lungModel(Y, t, bet, del_I, p, c, r, del_T, T0):\n",
    "    U, I, V, T = Y\n",
    "    \n",
    "    U = max(0,U)\n",
    "    I = max(0,I)\n",
    "    V = max(0,V)\n",
    "    T = max(0,T)\n",
    "\n",
    "    dU = -bet*U*V\n",
    "    dI = bet*U*V - del_I*T*I\n",
    "    dV = p*I - c*V\n",
    "    dT = r*T*V + del_T*(T0 - T)\n",
    "    \n",
    "    return [dU, dI, dV, dT]"
   ]
  },
  {
   "cell_type": "code",
   "execution_count": 104,
   "id": "aa679691-0f6e-4c55-9ba9-edd6044b9fe2",
   "metadata": {},
   "outputs": [],
   "source": [
    "parNames=['$V_0$', '$\\\\beta$', '$\\\\delta_I$', '$p$', '$c$', '$r$', '$\\\\delta_T$', 'RSS']"
   ]
  },
  {
   "cell_type": "markdown",
   "id": "745fbd67-7c65-4c1d-83ff-129a91d2de85",
   "metadata": {},
   "source": [
    "Run all parameter set simulations"
   ]
  },
  {
   "cell_type": "code",
   "execution_count": 105,
   "id": "f40f8011-c46c-4022-8e92-4c8c83a175f6",
   "metadata": {},
   "outputs": [],
   "source": [
    "def simulations(dfParams, Y0, t, simNum):\n",
    "    U = []\n",
    "    I = []\n",
    "    V = []\n",
    "    T = []\n",
    "\n",
    "    U0, I0, V0, T0 = Y0\n",
    "    \n",
    "    # V0 = 50\n",
    "    c = 2.9\n",
    "    del_T = 0.011\n",
    "    \n",
    "    for i in range(simNum):\n",
    "        bet = dfParams['$\\\\beta$'][i]\n",
    "        del_I = dfParams['$\\\\delta_I$'][i]\n",
    "        p = dfParams['$p$'][i]\n",
    "        r = dfParams['$r$'][i]\n",
    "    \n",
    "        sol = odeint(lungModel, Y0, t, args=(bet, del_I, p, c, r, del_T, T0))\n",
    "        U.append(sol[:,0])\n",
    "        I.append(sol[:,1])\n",
    "        V.append(sol[:,2])\n",
    "        T.append(sol[:,3])\n",
    "\n",
    "    return [U, I, V, T]"
   ]
  },
  {
   "cell_type": "markdown",
   "id": "d6d29482-e439-4a9b-b6e8-31360870e8fa",
   "metadata": {},
   "source": [
    "## Dynamics using the estimated parameters and bootstraping"
   ]
  },
  {
   "cell_type": "code",
   "execution_count": 106,
   "id": "aad21e45-1e2b-49d7-bb18-85d3de8a3b27",
   "metadata": {},
   "outputs": [
    {
     "data": {
      "text/html": [
       "<div>\n",
       "<style scoped>\n",
       "    .dataframe tbody tr th:only-of-type {\n",
       "        vertical-align: middle;\n",
       "    }\n",
       "\n",
       "    .dataframe tbody tr th {\n",
       "        vertical-align: top;\n",
       "    }\n",
       "\n",
       "    .dataframe thead th {\n",
       "        text-align: right;\n",
       "    }\n",
       "</style>\n",
       "<table border=\"1\" class=\"dataframe\">\n",
       "  <thead>\n",
       "    <tr style=\"text-align: right;\">\n",
       "      <th></th>\n",
       "      <th>Days</th>\n",
       "      <th>Virus</th>\n",
       "    </tr>\n",
       "  </thead>\n",
       "  <tbody>\n",
       "    <tr>\n",
       "      <th>0</th>\n",
       "      <td>2</td>\n",
       "      <td>448592.338</td>\n",
       "    </tr>\n",
       "    <tr>\n",
       "      <th>1</th>\n",
       "      <td>2</td>\n",
       "      <td>1126813.007</td>\n",
       "    </tr>\n",
       "    <tr>\n",
       "      <th>2</th>\n",
       "      <td>2</td>\n",
       "      <td>4262158.829</td>\n",
       "    </tr>\n",
       "    <tr>\n",
       "      <th>3</th>\n",
       "      <td>2</td>\n",
       "      <td>1126813.007</td>\n",
       "    </tr>\n",
       "  </tbody>\n",
       "</table>\n",
       "</div>"
      ],
      "text/plain": [
       "   Days        Virus\n",
       "0     2   448592.338\n",
       "1     2  1126813.007\n",
       "2     2  4262158.829\n",
       "3     2  1126813.007"
      ]
     },
     "execution_count": 106,
     "metadata": {},
     "output_type": "execute_result"
    }
   ],
   "source": [
    "dfViralData = pd.read_csv('influenza/viralLoad.csv')\n",
    "dfViralData.head(4)"
   ]
  },
  {
   "cell_type": "code",
   "execution_count": 107,
   "id": "95bed63a-dc61-4b72-adee-7498ae4bb510",
   "metadata": {},
   "outputs": [
    {
     "data": {
      "text/html": [
       "<div>\n",
       "<style scoped>\n",
       "    .dataframe tbody tr th:only-of-type {\n",
       "        vertical-align: middle;\n",
       "    }\n",
       "\n",
       "    .dataframe tbody tr th {\n",
       "        vertical-align: top;\n",
       "    }\n",
       "\n",
       "    .dataframe thead th {\n",
       "        text-align: right;\n",
       "    }\n",
       "</style>\n",
       "<table border=\"1\" class=\"dataframe\">\n",
       "  <thead>\n",
       "    <tr style=\"text-align: right;\">\n",
       "      <th></th>\n",
       "      <th>Days</th>\n",
       "      <th>CD8</th>\n",
       "    </tr>\n",
       "  </thead>\n",
       "  <tbody>\n",
       "    <tr>\n",
       "      <th>0</th>\n",
       "      <td>0</td>\n",
       "      <td>885768</td>\n",
       "    </tr>\n",
       "    <tr>\n",
       "      <th>1</th>\n",
       "      <td>0</td>\n",
       "      <td>990930</td>\n",
       "    </tr>\n",
       "    <tr>\n",
       "      <th>2</th>\n",
       "      <td>0</td>\n",
       "      <td>701114</td>\n",
       "    </tr>\n",
       "    <tr>\n",
       "      <th>3</th>\n",
       "      <td>0</td>\n",
       "      <td>1149200</td>\n",
       "    </tr>\n",
       "  </tbody>\n",
       "</table>\n",
       "</div>"
      ],
      "text/plain": [
       "   Days      CD8\n",
       "0     0   885768\n",
       "1     0   990930\n",
       "2     0   701114\n",
       "3     0  1149200"
      ]
     },
     "execution_count": 107,
     "metadata": {},
     "output_type": "execute_result"
    }
   ],
   "source": [
    "dfCD8data = pd.read_csv('influenza/CD8_data.csv')\n",
    "dfCD8data.head(4)"
   ]
  },
  {
   "cell_type": "code",
   "execution_count": 108,
   "id": "de8a6587-99e0-4756-abbb-4a48a2daf1ad",
   "metadata": {},
   "outputs": [],
   "source": [
    "def apply_exponent(value):\n",
    "    return 10 ** value"
   ]
  },
  {
   "cell_type": "markdown",
   "id": "e605c20f-8326-436d-8e7a-e40ef7a5b6ee",
   "metadata": {},
   "source": [
    "### Quantitative Viral Load"
   ]
  },
  {
   "cell_type": "code",
   "execution_count": 109,
   "id": "de0c679b-cd40-44d1-af16-5274bc9505c4",
   "metadata": {},
   "outputs": [],
   "source": [
    "dfParams_log = pd.read_csv('influenza/bestPars_quant_fix.dat', sep=' ', names=parNames)"
   ]
  },
  {
   "cell_type": "code",
   "execution_count": 110,
   "id": "15005478-ddad-4459-b40a-ced6a937aecf",
   "metadata": {},
   "outputs": [],
   "source": [
    "dfParams = dfParams_log.apply(lambda x: apply_exponent(x) if x.name != 'RSS' else x)"
   ]
  },
  {
   "cell_type": "code",
   "execution_count": 111,
   "id": "b192a7b5-e296-4ab0-9de1-9c272432a726",
   "metadata": {},
   "outputs": [
    {
     "data": {
      "text/html": [
       "<div>\n",
       "<style scoped>\n",
       "    .dataframe tbody tr th:only-of-type {\n",
       "        vertical-align: middle;\n",
       "    }\n",
       "\n",
       "    .dataframe tbody tr th {\n",
       "        vertical-align: top;\n",
       "    }\n",
       "\n",
       "    .dataframe thead th {\n",
       "        text-align: right;\n",
       "    }\n",
       "</style>\n",
       "<table border=\"1\" class=\"dataframe\">\n",
       "  <thead>\n",
       "    <tr style=\"text-align: right;\">\n",
       "      <th></th>\n",
       "      <th>$V_0$</th>\n",
       "      <th>$\\beta$</th>\n",
       "      <th>$\\delta_I$</th>\n",
       "      <th>$p$</th>\n",
       "      <th>$c$</th>\n",
       "      <th>$r$</th>\n",
       "      <th>$\\delta_T$</th>\n",
       "      <th>RSS</th>\n",
       "    </tr>\n",
       "  </thead>\n",
       "  <tbody>\n",
       "    <tr>\n",
       "      <th>0</th>\n",
       "      <td>50.003453</td>\n",
       "      <td>1.909414e-05</td>\n",
       "      <td>1.000000e-08</td>\n",
       "      <td>0.311387</td>\n",
       "      <td>2.900013</td>\n",
       "      <td>1.468250e-06</td>\n",
       "      <td>0.011</td>\n",
       "      <td>6.2676</td>\n",
       "    </tr>\n",
       "    <tr>\n",
       "      <th>1</th>\n",
       "      <td>50.003453</td>\n",
       "      <td>1.047129e-05</td>\n",
       "      <td>9.264031e-08</td>\n",
       "      <td>0.467412</td>\n",
       "      <td>2.900013</td>\n",
       "      <td>8.493760e-07</td>\n",
       "      <td>0.011</td>\n",
       "      <td>9.9461</td>\n",
       "    </tr>\n",
       "    <tr>\n",
       "      <th>2</th>\n",
       "      <td>50.003453</td>\n",
       "      <td>1.347411e-05</td>\n",
       "      <td>1.118922e-07</td>\n",
       "      <td>0.393641</td>\n",
       "      <td>2.900013</td>\n",
       "      <td>9.536741e-07</td>\n",
       "      <td>0.011</td>\n",
       "      <td>5.6049</td>\n",
       "    </tr>\n",
       "    <tr>\n",
       "      <th>3</th>\n",
       "      <td>50.003453</td>\n",
       "      <td>2.127159e-06</td>\n",
       "      <td>1.853105e-06</td>\n",
       "      <td>2.588213</td>\n",
       "      <td>2.900013</td>\n",
       "      <td>1.000000e-08</td>\n",
       "      <td>0.011</td>\n",
       "      <td>12.5240</td>\n",
       "    </tr>\n",
       "    <tr>\n",
       "      <th>4</th>\n",
       "      <td>50.003453</td>\n",
       "      <td>8.568405e-07</td>\n",
       "      <td>1.498649e-06</td>\n",
       "      <td>7.350214</td>\n",
       "      <td>2.900013</td>\n",
       "      <td>1.000000e-08</td>\n",
       "      <td>0.011</td>\n",
       "      <td>5.6863</td>\n",
       "    </tr>\n",
       "  </tbody>\n",
       "</table>\n",
       "</div>"
      ],
      "text/plain": [
       "       $V_0$       $\\beta$    $\\delta_I$       $p$       $c$           $r$  \\\n",
       "0  50.003453  1.909414e-05  1.000000e-08  0.311387  2.900013  1.468250e-06   \n",
       "1  50.003453  1.047129e-05  9.264031e-08  0.467412  2.900013  8.493760e-07   \n",
       "2  50.003453  1.347411e-05  1.118922e-07  0.393641  2.900013  9.536741e-07   \n",
       "3  50.003453  2.127159e-06  1.853105e-06  2.588213  2.900013  1.000000e-08   \n",
       "4  50.003453  8.568405e-07  1.498649e-06  7.350214  2.900013  1.000000e-08   \n",
       "\n",
       "   $\\delta_T$      RSS  \n",
       "0       0.011   6.2676  \n",
       "1       0.011   9.9461  \n",
       "2       0.011   5.6049  \n",
       "3       0.011  12.5240  \n",
       "4       0.011   5.6863  "
      ]
     },
     "execution_count": 111,
     "metadata": {},
     "output_type": "execute_result"
    }
   ],
   "source": [
    "dfParams.head()"
   ]
  },
  {
   "cell_type": "code",
   "execution_count": 112,
   "id": "cdd709be-23e8-4b0a-8020-5ee433b6c1f2",
   "metadata": {},
   "outputs": [
    {
     "data": {
      "text/html": [
       "<div>\n",
       "<style scoped>\n",
       "    .dataframe tbody tr th:only-of-type {\n",
       "        vertical-align: middle;\n",
       "    }\n",
       "\n",
       "    .dataframe tbody tr th {\n",
       "        vertical-align: top;\n",
       "    }\n",
       "\n",
       "    .dataframe thead th {\n",
       "        text-align: right;\n",
       "    }\n",
       "</style>\n",
       "<table border=\"1\" class=\"dataframe\">\n",
       "  <thead>\n",
       "    <tr style=\"text-align: right;\">\n",
       "      <th></th>\n",
       "      <th>$\\beta$</th>\n",
       "      <th>$\\delta_I$</th>\n",
       "      <th>$p$</th>\n",
       "      <th>$r$</th>\n",
       "    </tr>\n",
       "  </thead>\n",
       "  <tbody>\n",
       "    <tr>\n",
       "      <th>count</th>\n",
       "      <td>1.000000e+03</td>\n",
       "      <td>1.000000e+03</td>\n",
       "      <td>1000.000000</td>\n",
       "      <td>1.000000e+03</td>\n",
       "    </tr>\n",
       "    <tr>\n",
       "      <th>mean</th>\n",
       "      <td>1.573778e-05</td>\n",
       "      <td>1.039873e-06</td>\n",
       "      <td>1.645948</td>\n",
       "      <td>3.576588e-07</td>\n",
       "    </tr>\n",
       "    <tr>\n",
       "      <th>std</th>\n",
       "      <td>2.820879e-05</td>\n",
       "      <td>6.806176e-07</td>\n",
       "      <td>1.173283</td>\n",
       "      <td>5.639863e-07</td>\n",
       "    </tr>\n",
       "    <tr>\n",
       "      <th>min</th>\n",
       "      <td>5.317408e-07</td>\n",
       "      <td>1.000000e-08</td>\n",
       "      <td>0.147979</td>\n",
       "      <td>1.000000e-08</td>\n",
       "    </tr>\n",
       "    <tr>\n",
       "      <th>25%</th>\n",
       "      <td>2.542144e-06</td>\n",
       "      <td>1.360508e-07</td>\n",
       "      <td>0.551350</td>\n",
       "      <td>1.000000e-08</td>\n",
       "    </tr>\n",
       "    <tr>\n",
       "      <th>50%</th>\n",
       "      <td>3.869015e-06</td>\n",
       "      <td>1.465548e-06</td>\n",
       "      <td>1.560271</td>\n",
       "      <td>1.000000e-08</td>\n",
       "    </tr>\n",
       "    <tr>\n",
       "      <th>75%</th>\n",
       "      <td>1.117463e-05</td>\n",
       "      <td>1.555607e-06</td>\n",
       "      <td>2.330908</td>\n",
       "      <td>6.682321e-07</td>\n",
       "    </tr>\n",
       "    <tr>\n",
       "      <th>max</th>\n",
       "      <td>1.000000e-04</td>\n",
       "      <td>1.896269e-06</td>\n",
       "      <td>8.910457</td>\n",
       "      <td>2.889349e-06</td>\n",
       "    </tr>\n",
       "  </tbody>\n",
       "</table>\n",
       "</div>"
      ],
      "text/plain": [
       "            $\\beta$    $\\delta_I$          $p$           $r$\n",
       "count  1.000000e+03  1.000000e+03  1000.000000  1.000000e+03\n",
       "mean   1.573778e-05  1.039873e-06     1.645948  3.576588e-07\n",
       "std    2.820879e-05  6.806176e-07     1.173283  5.639863e-07\n",
       "min    5.317408e-07  1.000000e-08     0.147979  1.000000e-08\n",
       "25%    2.542144e-06  1.360508e-07     0.551350  1.000000e-08\n",
       "50%    3.869015e-06  1.465548e-06     1.560271  1.000000e-08\n",
       "75%    1.117463e-05  1.555607e-06     2.330908  6.682321e-07\n",
       "max    1.000000e-04  1.896269e-06     8.910457  2.889349e-06"
      ]
     },
     "execution_count": 112,
     "metadata": {},
     "output_type": "execute_result"
    }
   ],
   "source": [
    "dfParams_qt = dfParams.drop(['$V_0$', '$c$', '$\\\\delta_T$', 'RSS'], axis=1)\n",
    "dfParams_qt.describe()"
   ]
  },
  {
   "cell_type": "code",
   "execution_count": 113,
   "id": "e7639e05-4ce3-43f6-b986-0550d7083e49",
   "metadata": {},
   "outputs": [],
   "source": [
    "U0 = 1e7\n",
    "I0 = 0\n",
    "V0 = 50\n",
    "T0 = 1e6\n",
    "Y0 = [U0, I0, V0, T0]\n",
    "\n",
    "t = np.linspace(0, 25, 561)\n",
    "\n",
    "simNumber = dfParams.shape[0]\n",
    "\n",
    "U_Qt, I_Qt, V_Qt, T_Qt = simulations(dfParams, Y0, t, simNumber)"
   ]
  },
  {
   "cell_type": "code",
   "execution_count": 114,
   "id": "292517e5-ec6d-48a6-916c-0f8a18d94a1b",
   "metadata": {},
   "outputs": [],
   "source": [
    "# Convert list of arrays to a 2D numpy array and compute median and confidence innterval\n",
    "VQt_2D = np.array(V_Qt)\n",
    "TQt_2D = np.array(T_Qt)\n",
    "median_VQt = np.median(VQt_2D, axis=0)\n",
    "confidence_VQt = np.percentile(VQt_2D, [2.5, 97.5], axis=0)\n",
    "median_TQt = np.median(TQt_2D, axis=0)\n",
    "confidence_TQt = np.percentile(TQt_2D, [2.5, 97.5], axis=0)\n",
    "# mean_VQt = np.mean(VQt_2D, axis=0)\n",
    "# std_VQt = np.std(VQt_2D, axis=0)"
   ]
  },
  {
   "cell_type": "code",
   "execution_count": 115,
   "id": "abbf7c99-24e0-4357-922f-2080d96c9349",
   "metadata": {},
   "outputs": [],
   "source": [
    "dfParams_quant = dfParams.drop(columns=['$V_0$', '$c$', '$\\\\delta_T$', 'RSS']).melt(var_name='Parameters',\n",
    "                                                                                    value_name='Values')"
   ]
  },
  {
   "cell_type": "markdown",
   "id": "59200ace-f0c8-4401-b232-366a9b6a219b",
   "metadata": {},
   "source": [
    "### Quantitative T cell"
   ]
  },
  {
   "cell_type": "code",
   "execution_count": 116,
   "id": "f078f82e-2982-4e3f-b1b6-f71554a633f4",
   "metadata": {},
   "outputs": [],
   "source": [
    "dfParams_log = pd.read_csv('influenza/bestPars_quant_fix_T.dat', sep=' ', names=parNames)"
   ]
  },
  {
   "cell_type": "code",
   "execution_count": 117,
   "id": "97b699a8-16ad-4c11-a965-e25df9e84bed",
   "metadata": {},
   "outputs": [],
   "source": [
    "dfParams = dfParams_log.apply(lambda x: apply_exponent(x) if x.name != 'RSS' else x)"
   ]
  },
  {
   "cell_type": "code",
   "execution_count": 118,
   "id": "1207564f-422c-41b3-8c42-d86f33ebca21",
   "metadata": {},
   "outputs": [
    {
     "data": {
      "text/html": [
       "<div>\n",
       "<style scoped>\n",
       "    .dataframe tbody tr th:only-of-type {\n",
       "        vertical-align: middle;\n",
       "    }\n",
       "\n",
       "    .dataframe tbody tr th {\n",
       "        vertical-align: top;\n",
       "    }\n",
       "\n",
       "    .dataframe thead th {\n",
       "        text-align: right;\n",
       "    }\n",
       "</style>\n",
       "<table border=\"1\" class=\"dataframe\">\n",
       "  <thead>\n",
       "    <tr style=\"text-align: right;\">\n",
       "      <th></th>\n",
       "      <th>$V_0$</th>\n",
       "      <th>$\\beta$</th>\n",
       "      <th>$\\delta_I$</th>\n",
       "      <th>$p$</th>\n",
       "      <th>$c$</th>\n",
       "      <th>$r$</th>\n",
       "      <th>$\\delta_T$</th>\n",
       "      <th>RSS</th>\n",
       "    </tr>\n",
       "  </thead>\n",
       "  <tbody>\n",
       "    <tr>\n",
       "      <th>622</th>\n",
       "      <td>50.003453</td>\n",
       "      <td>0.000005</td>\n",
       "      <td>9.705100e-07</td>\n",
       "      <td>1.056088</td>\n",
       "      <td>2.900013</td>\n",
       "      <td>1.367414e-07</td>\n",
       "      <td>0.011</td>\n",
       "      <td>71.789</td>\n",
       "    </tr>\n",
       "    <tr>\n",
       "      <th>623</th>\n",
       "      <td>50.003453</td>\n",
       "      <td>0.000003</td>\n",
       "      <td>8.279422e-07</td>\n",
       "      <td>1.494514</td>\n",
       "      <td>2.900013</td>\n",
       "      <td>1.131358e-07</td>\n",
       "      <td>0.011</td>\n",
       "      <td>70.915</td>\n",
       "    </tr>\n",
       "    <tr>\n",
       "      <th>624</th>\n",
       "      <td>50.003453</td>\n",
       "      <td>0.000004</td>\n",
       "      <td>1.241938e-06</td>\n",
       "      <td>1.557758</td>\n",
       "      <td>2.900013</td>\n",
       "      <td>3.927354e-08</td>\n",
       "      <td>0.011</td>\n",
       "      <td>125.830</td>\n",
       "    </tr>\n",
       "    <tr>\n",
       "      <th>625</th>\n",
       "      <td>50.003453</td>\n",
       "      <td>0.000003</td>\n",
       "      <td>1.025888e-06</td>\n",
       "      <td>1.791843</td>\n",
       "      <td>2.900013</td>\n",
       "      <td>1.107388e-07</td>\n",
       "      <td>0.011</td>\n",
       "      <td>47.567</td>\n",
       "    </tr>\n",
       "  </tbody>\n",
       "</table>\n",
       "</div>"
      ],
      "text/plain": [
       "         $V_0$   $\\beta$    $\\delta_I$       $p$       $c$           $r$  \\\n",
       "622  50.003453  0.000005  9.705100e-07  1.056088  2.900013  1.367414e-07   \n",
       "623  50.003453  0.000003  8.279422e-07  1.494514  2.900013  1.131358e-07   \n",
       "624  50.003453  0.000004  1.241938e-06  1.557758  2.900013  3.927354e-08   \n",
       "625  50.003453  0.000003  1.025888e-06  1.791843  2.900013  1.107388e-07   \n",
       "\n",
       "     $\\delta_T$      RSS  \n",
       "622       0.011   71.789  \n",
       "623       0.011   70.915  \n",
       "624       0.011  125.830  \n",
       "625       0.011   47.567  "
      ]
     },
     "execution_count": 118,
     "metadata": {},
     "output_type": "execute_result"
    }
   ],
   "source": [
    "dfParams.tail(4)"
   ]
  },
  {
   "cell_type": "code",
   "execution_count": 119,
   "id": "c4887f50-0482-418d-805f-6ad035552951",
   "metadata": {},
   "outputs": [
    {
     "data": {
      "text/html": [
       "<div>\n",
       "<style scoped>\n",
       "    .dataframe tbody tr th:only-of-type {\n",
       "        vertical-align: middle;\n",
       "    }\n",
       "\n",
       "    .dataframe tbody tr th {\n",
       "        vertical-align: top;\n",
       "    }\n",
       "\n",
       "    .dataframe thead th {\n",
       "        text-align: right;\n",
       "    }\n",
       "</style>\n",
       "<table border=\"1\" class=\"dataframe\">\n",
       "  <thead>\n",
       "    <tr style=\"text-align: right;\">\n",
       "      <th></th>\n",
       "      <th>$\\beta$</th>\n",
       "      <th>$\\delta_I$</th>\n",
       "      <th>$p$</th>\n",
       "      <th>$r$</th>\n",
       "    </tr>\n",
       "  </thead>\n",
       "  <tbody>\n",
       "    <tr>\n",
       "      <th>count</th>\n",
       "      <td>6.260000e+02</td>\n",
       "      <td>6.260000e+02</td>\n",
       "      <td>626.000000</td>\n",
       "      <td>6.260000e+02</td>\n",
       "    </tr>\n",
       "    <tr>\n",
       "      <th>mean</th>\n",
       "      <td>3.596212e-06</td>\n",
       "      <td>1.189193e-06</td>\n",
       "      <td>1.837172</td>\n",
       "      <td>7.110139e-08</td>\n",
       "    </tr>\n",
       "    <tr>\n",
       "      <th>std</th>\n",
       "      <td>1.435660e-06</td>\n",
       "      <td>2.029711e-07</td>\n",
       "      <td>0.830187</td>\n",
       "      <td>4.971356e-08</td>\n",
       "    </tr>\n",
       "    <tr>\n",
       "      <th>min</th>\n",
       "      <td>8.344494e-07</td>\n",
       "      <td>5.959365e-07</td>\n",
       "      <td>0.614045</td>\n",
       "      <td>1.000000e-08</td>\n",
       "    </tr>\n",
       "    <tr>\n",
       "      <th>25%</th>\n",
       "      <td>2.515216e-06</td>\n",
       "      <td>1.036991e-06</td>\n",
       "      <td>1.241873</td>\n",
       "      <td>3.329087e-08</td>\n",
       "    </tr>\n",
       "    <tr>\n",
       "      <th>50%</th>\n",
       "      <td>3.337721e-06</td>\n",
       "      <td>1.179777e-06</td>\n",
       "      <td>1.654436</td>\n",
       "      <td>6.133418e-08</td>\n",
       "    </tr>\n",
       "    <tr>\n",
       "      <th>75%</th>\n",
       "      <td>4.405550e-06</td>\n",
       "      <td>1.341452e-06</td>\n",
       "      <td>2.204708</td>\n",
       "      <td>1.020998e-07</td>\n",
       "    </tr>\n",
       "    <tr>\n",
       "      <th>max</th>\n",
       "      <td>9.099133e-06</td>\n",
       "      <td>1.787310e-06</td>\n",
       "      <td>6.835968</td>\n",
       "      <td>2.887354e-07</td>\n",
       "    </tr>\n",
       "  </tbody>\n",
       "</table>\n",
       "</div>"
      ],
      "text/plain": [
       "            $\\beta$    $\\delta_I$         $p$           $r$\n",
       "count  6.260000e+02  6.260000e+02  626.000000  6.260000e+02\n",
       "mean   3.596212e-06  1.189193e-06    1.837172  7.110139e-08\n",
       "std    1.435660e-06  2.029711e-07    0.830187  4.971356e-08\n",
       "min    8.344494e-07  5.959365e-07    0.614045  1.000000e-08\n",
       "25%    2.515216e-06  1.036991e-06    1.241873  3.329087e-08\n",
       "50%    3.337721e-06  1.179777e-06    1.654436  6.133418e-08\n",
       "75%    4.405550e-06  1.341452e-06    2.204708  1.020998e-07\n",
       "max    9.099133e-06  1.787310e-06    6.835968  2.887354e-07"
      ]
     },
     "execution_count": 119,
     "metadata": {},
     "output_type": "execute_result"
    }
   ],
   "source": [
    "dfParams_qt_T = dfParams.drop(['$V_0$', '$c$', '$\\\\delta_T$', 'RSS'], axis=1)\n",
    "dfParams_qt_T.describe()"
   ]
  },
  {
   "cell_type": "code",
   "execution_count": 120,
   "id": "022f7ebb-8309-4758-9cde-46bc2de12ee3",
   "metadata": {},
   "outputs": [],
   "source": [
    "U0 = 1e7\n",
    "I0 = 0\n",
    "V0 = 50\n",
    "T0 = 1e6\n",
    "Y0 = [U0, I0, V0, T0]\n",
    "\n",
    "t = np.linspace(0, 25, 561)\n",
    "\n",
    "simNumber = dfParams.shape[0]\n",
    "\n",
    "U_Qt_T, I_Qt_T, V_Qt_T, T_Qt_T = simulations(dfParams, Y0, t, simNumber)"
   ]
  },
  {
   "cell_type": "code",
   "execution_count": 121,
   "id": "31accc5f-4679-4785-ab17-f310ca23211f",
   "metadata": {},
   "outputs": [],
   "source": [
    "# Convert list of arrays to a 2D numpy array and compute median and confidence innterval\n",
    "VQt_T_2D = np.array(V_Qt_T)\n",
    "TQt_T_2D = np.array(T_Qt_T)\n",
    "median_VQt_T = np.median(VQt_T_2D, axis=0)\n",
    "confidence_VQt_T = np.percentile(VQt_T_2D, [2.5, 97.5], axis=0)\n",
    "median_TQt_T = np.median(TQt_T_2D, axis=0)\n",
    "confidence_TQt_T = np.percentile(TQt_T_2D, [2.5, 97.5], axis=0)\n",
    "# mean_VQt_T = np.mean(VQt_T_2D, axis=0)\n",
    "# std_VQt_T = np.std(VQt_T_2D, axis=0)"
   ]
  },
  {
   "cell_type": "code",
   "execution_count": 122,
   "id": "5844ed71-46bf-48a9-9dc9-e1ed6705f2f8",
   "metadata": {},
   "outputs": [],
   "source": [
    "dfParams_quant_T = dfParams.drop(columns=['$V_0$', '$c$', '$\\\\delta_T$', 'RSS']).melt(var_name='Parameters',\n",
    "                                                                                   value_name='Values')"
   ]
  },
  {
   "cell_type": "markdown",
   "id": "ca7587a0-19b5-40fe-a247-655b614433a9",
   "metadata": {},
   "source": [
    "### Qualitative T cell level"
   ]
  },
  {
   "cell_type": "code",
   "execution_count": 123,
   "id": "39d99ffe-4d66-4fea-94b9-0b7a8481c6ff",
   "metadata": {},
   "outputs": [],
   "source": [
    "dfParams_log = pd.read_csv('influenza/bestPars_qual_fix.dat', sep=' ', names=parNames)"
   ]
  },
  {
   "cell_type": "code",
   "execution_count": 124,
   "id": "588bf865-da5d-4b64-b8c0-af05c562e170",
   "metadata": {},
   "outputs": [],
   "source": [
    "dfParams = dfParams_log.apply(lambda x: apply_exponent(x) if x.name != 'RSS' else x)"
   ]
  },
  {
   "cell_type": "code",
   "execution_count": 125,
   "id": "c2b5fac3-a775-416b-ae1a-3b1a298d54b3",
   "metadata": {},
   "outputs": [
    {
     "data": {
      "text/html": [
       "<div>\n",
       "<style scoped>\n",
       "    .dataframe tbody tr th:only-of-type {\n",
       "        vertical-align: middle;\n",
       "    }\n",
       "\n",
       "    .dataframe tbody tr th {\n",
       "        vertical-align: top;\n",
       "    }\n",
       "\n",
       "    .dataframe thead th {\n",
       "        text-align: right;\n",
       "    }\n",
       "</style>\n",
       "<table border=\"1\" class=\"dataframe\">\n",
       "  <thead>\n",
       "    <tr style=\"text-align: right;\">\n",
       "      <th></th>\n",
       "      <th>$V_0$</th>\n",
       "      <th>$\\beta$</th>\n",
       "      <th>$\\delta_I$</th>\n",
       "      <th>$p$</th>\n",
       "      <th>$c$</th>\n",
       "      <th>$r$</th>\n",
       "      <th>$\\delta_T$</th>\n",
       "      <th>RSS</th>\n",
       "    </tr>\n",
       "  </thead>\n",
       "  <tbody>\n",
       "    <tr>\n",
       "      <th>996</th>\n",
       "      <td>50.003453</td>\n",
       "      <td>0.000007</td>\n",
       "      <td>3.571083e-07</td>\n",
       "      <td>0.746449</td>\n",
       "      <td>2.900013</td>\n",
       "      <td>4.468893e-07</td>\n",
       "      <td>0.011</td>\n",
       "      <td>8.5867</td>\n",
       "    </tr>\n",
       "    <tr>\n",
       "      <th>997</th>\n",
       "      <td>50.003453</td>\n",
       "      <td>0.000008</td>\n",
       "      <td>3.698282e-07</td>\n",
       "      <td>0.836373</td>\n",
       "      <td>2.900013</td>\n",
       "      <td>4.103931e-07</td>\n",
       "      <td>0.011</td>\n",
       "      <td>11.5250</td>\n",
       "    </tr>\n",
       "    <tr>\n",
       "      <th>998</th>\n",
       "      <td>50.003453</td>\n",
       "      <td>0.000004</td>\n",
       "      <td>4.177342e-07</td>\n",
       "      <td>1.041358</td>\n",
       "      <td>2.900013</td>\n",
       "      <td>3.663532e-07</td>\n",
       "      <td>0.011</td>\n",
       "      <td>16.3470</td>\n",
       "    </tr>\n",
       "    <tr>\n",
       "      <th>999</th>\n",
       "      <td>50.003453</td>\n",
       "      <td>0.000010</td>\n",
       "      <td>3.293063e-07</td>\n",
       "      <td>0.550174</td>\n",
       "      <td>2.900013</td>\n",
       "      <td>5.663697e-07</td>\n",
       "      <td>0.011</td>\n",
       "      <td>6.4180</td>\n",
       "    </tr>\n",
       "  </tbody>\n",
       "</table>\n",
       "</div>"
      ],
      "text/plain": [
       "         $V_0$   $\\beta$    $\\delta_I$       $p$       $c$           $r$  \\\n",
       "996  50.003453  0.000007  3.571083e-07  0.746449  2.900013  4.468893e-07   \n",
       "997  50.003453  0.000008  3.698282e-07  0.836373  2.900013  4.103931e-07   \n",
       "998  50.003453  0.000004  4.177342e-07  1.041358  2.900013  3.663532e-07   \n",
       "999  50.003453  0.000010  3.293063e-07  0.550174  2.900013  5.663697e-07   \n",
       "\n",
       "     $\\delta_T$      RSS  \n",
       "996       0.011   8.5867  \n",
       "997       0.011  11.5250  \n",
       "998       0.011  16.3470  \n",
       "999       0.011   6.4180  "
      ]
     },
     "execution_count": 125,
     "metadata": {},
     "output_type": "execute_result"
    }
   ],
   "source": [
    "dfParams.tail(4)"
   ]
  },
  {
   "cell_type": "code",
   "execution_count": 126,
   "id": "bf5c5327-75be-4fb1-bead-25d08c35f528",
   "metadata": {},
   "outputs": [
    {
     "data": {
      "text/html": [
       "<div>\n",
       "<style scoped>\n",
       "    .dataframe tbody tr th:only-of-type {\n",
       "        vertical-align: middle;\n",
       "    }\n",
       "\n",
       "    .dataframe tbody tr th {\n",
       "        vertical-align: top;\n",
       "    }\n",
       "\n",
       "    .dataframe thead th {\n",
       "        text-align: right;\n",
       "    }\n",
       "</style>\n",
       "<table border=\"1\" class=\"dataframe\">\n",
       "  <thead>\n",
       "    <tr style=\"text-align: right;\">\n",
       "      <th></th>\n",
       "      <th>$\\beta$</th>\n",
       "      <th>$\\delta_I$</th>\n",
       "      <th>$p$</th>\n",
       "      <th>$r$</th>\n",
       "    </tr>\n",
       "  </thead>\n",
       "  <tbody>\n",
       "    <tr>\n",
       "      <th>count</th>\n",
       "      <td>1000.000000</td>\n",
       "      <td>1.000000e+03</td>\n",
       "      <td>1000.000000</td>\n",
       "      <td>1.000000e+03</td>\n",
       "    </tr>\n",
       "    <tr>\n",
       "      <th>mean</th>\n",
       "      <td>0.000009</td>\n",
       "      <td>3.409495e-07</td>\n",
       "      <td>0.803928</td>\n",
       "      <td>4.593809e-07</td>\n",
       "    </tr>\n",
       "    <tr>\n",
       "      <th>std</th>\n",
       "      <td>0.000008</td>\n",
       "      <td>4.313452e-08</td>\n",
       "      <td>0.305108</td>\n",
       "      <td>1.435112e-07</td>\n",
       "    </tr>\n",
       "    <tr>\n",
       "      <th>min</th>\n",
       "      <td>0.000002</td>\n",
       "      <td>2.373012e-07</td>\n",
       "      <td>0.208161</td>\n",
       "      <td>1.535324e-07</td>\n",
       "    </tr>\n",
       "    <tr>\n",
       "      <th>25%</th>\n",
       "      <td>0.000006</td>\n",
       "      <td>3.057560e-07</td>\n",
       "      <td>0.589658</td>\n",
       "      <td>3.495023e-07</td>\n",
       "    </tr>\n",
       "    <tr>\n",
       "      <th>50%</th>\n",
       "      <td>0.000008</td>\n",
       "      <td>3.481369e-07</td>\n",
       "      <td>0.739691</td>\n",
       "      <td>4.437108e-07</td>\n",
       "    </tr>\n",
       "    <tr>\n",
       "      <th>75%</th>\n",
       "      <td>0.000010</td>\n",
       "      <td>3.720703e-07</td>\n",
       "      <td>0.954388</td>\n",
       "      <td>5.410346e-07</td>\n",
       "    </tr>\n",
       "    <tr>\n",
       "      <th>max</th>\n",
       "      <td>0.000100</td>\n",
       "      <td>4.479195e-07</td>\n",
       "      <td>2.399385</td>\n",
       "      <td>1.356438e-06</td>\n",
       "    </tr>\n",
       "  </tbody>\n",
       "</table>\n",
       "</div>"
      ],
      "text/plain": [
       "           $\\beta$    $\\delta_I$          $p$           $r$\n",
       "count  1000.000000  1.000000e+03  1000.000000  1.000000e+03\n",
       "mean      0.000009  3.409495e-07     0.803928  4.593809e-07\n",
       "std       0.000008  4.313452e-08     0.305108  1.435112e-07\n",
       "min       0.000002  2.373012e-07     0.208161  1.535324e-07\n",
       "25%       0.000006  3.057560e-07     0.589658  3.495023e-07\n",
       "50%       0.000008  3.481369e-07     0.739691  4.437108e-07\n",
       "75%       0.000010  3.720703e-07     0.954388  5.410346e-07\n",
       "max       0.000100  4.479195e-07     2.399385  1.356438e-06"
      ]
     },
     "execution_count": 126,
     "metadata": {},
     "output_type": "execute_result"
    }
   ],
   "source": [
    "dfParams_ql = dfParams.drop(['$V_0$', '$c$', '$\\\\delta_T$', 'RSS'], axis=1)\n",
    "dfParams_ql.describe()"
   ]
  },
  {
   "cell_type": "code",
   "execution_count": 127,
   "id": "3e85ae53-0e9e-4501-b83f-1caf66f5c11f",
   "metadata": {},
   "outputs": [],
   "source": [
    "U0 = 1e7\n",
    "I0 = 0\n",
    "V0 = 50\n",
    "T0 = 1e6\n",
    "Y0 = [U0, I0, V0, T0]\n",
    "\n",
    "t = np.linspace(0, 25, 561)\n",
    "\n",
    "simNumber = dfParams.shape[0]\n",
    "\n",
    "U_Ql, I_Ql, V_Ql, T_Ql = simulations(dfParams, Y0, t, simNumber)"
   ]
  },
  {
   "cell_type": "code",
   "execution_count": 128,
   "id": "e7352359-0eba-4aba-93bc-31a30811b18b",
   "metadata": {},
   "outputs": [],
   "source": [
    "# Convert list of arrays to a 2D numpy array and compute median and confidence innterval\n",
    "VQl_2D = np.array(V_Ql)\n",
    "TQl_2D = np.array(T_Ql)\n",
    "median_VQl = np.median(VQl_2D, axis=0)\n",
    "confidence_VQl = np.percentile(VQl_2D, [2.5, 97.5], axis=0)\n",
    "median_TQl = np.median(TQl_2D, axis=0)\n",
    "confidence_TQl = np.percentile(TQl_2D, [2.5, 97.5], axis=0)\n",
    "# mean_VQl = np.mean(VQl_2D, axis=0)\n",
    "# std_VQl = np.std(VQl_2D, axis=0)"
   ]
  },
  {
   "cell_type": "code",
   "execution_count": 129,
   "id": "f1e96503-09f3-44e1-a7a0-dc0483b51738",
   "metadata": {},
   "outputs": [],
   "source": [
    "dfParams_qual = dfParams.drop(columns=['$V_0$', '$c$', '$\\\\delta_T$', 'RSS']).melt(var_name='Parameters',\n",
    "                                                                                   value_name='Values')"
   ]
  },
  {
   "cell_type": "markdown",
   "id": "bbaa1b63-1e78-458d-82d2-2c2fdab6d0ce",
   "metadata": {},
   "source": [
    "### Simulation plots"
   ]
  },
  {
   "cell_type": "code",
   "execution_count": 136,
   "id": "7df8bac6-1328-4a42-b329-91faddccdda9",
   "metadata": {},
   "outputs": [
    {
     "data": {
      "image/png": "[encoded data removed]",
      "text/plain": [
       "<Figure size 1200x800 with 6 Axes>"
      ]
     },
     "metadata": {},
     "output_type": "display_data"
    }
   ],
   "source": [
    "fig, axs = plt.subplots(nrows=3, ncols=2, figsize=(12,8), sharex=True)\n",
    "\n",
    "# QUANTITATIVE VIRAL LOAD\n",
    "axs[0,0].scatter(x=dfViralData['Days'], y=dfViralData['Virus'], color=palette_2[1], marker=\"o\")\n",
    "axs[0,0].plot(t, median_VQt, lw=3, color=palette[0])\n",
    "axs[0,0].fill_between(t, confidence_VQt[0], confidence_VQt[1], color=palette[0], alpha=0.3, lw=1.5)\n",
    "axs[0,0].set_yscale('log')\n",
    "axs[0,0].set_xlim((0, 22))\n",
    "axs[0,0].set_ylim((1e1, 2e7))\n",
    "\n",
    "axs[0,1].plot(t, median_TQt, lw=3, color=palette[0])\n",
    "axs[0,1].fill_between(t, confidence_TQt[0], confidence_TQt[1], color=palette[0], alpha=0.3, lw=1.5)\n",
    "axs[0,1].set_yscale('log')\n",
    "axs[0,1].set_xlim((0, 22))\n",
    "axs[0,1].set_ylim((0.1e6, 1.5e7))\n",
    "\n",
    "# QUANTITATIVE T CELL LEVEL\n",
    "\n",
    "axs[1,0].scatter(x=dfViralData['Days'], y=dfViralData['Virus'], color=palette_2[1], marker=\"o\")\n",
    "axs[1,0].plot(t, median_VQt_T, lw=3, color=palette[2])\n",
    "axs[1,0].fill_between(t, confidence_VQt_T[0], confidence_VQt_T[1], color=palette[2], alpha=0.3, lw=1.5)\n",
    "axs[1,0].set_yscale('log')\n",
    "axs[1,0].set_xlim((0, 22))\n",
    "axs[1,0].set_ylim((1e1, 2e7))\n",
    "\n",
    "axs[1,1].scatter(x=dfCD8data['Days'], y=dfCD8data['CD8'], color='gray', marker=\"^\")\n",
    "axs[1,1].plot(t, median_TQt_T, lw=3, color=palette[2])\n",
    "axs[1,1].fill_between(t, confidence_TQt_T[0], confidence_TQt_T[1], color=palette[2], alpha=0.3, lw=1.5)\n",
    "axs[1,1].set_yscale('log')\n",
    "axs[1,1].set_xlim((0, 22))\n",
    "axs[1,1].set_ylim((0.1e6, 1.5e7))\n",
    "\n",
    "# QUALITATIVE T CELL LEVEL\n",
    "\n",
    "for i in range(len(dfTcellQual['tmin'])):\n",
    "    tmin = dfTcellQual['tmin'].values[i]\n",
    "    Tmin = dfTcellQual['Tmin'].values[i]\n",
    "    width = dfTcellQual['tmax'].values[i] - tmin\n",
    "    height = dfTcellQual['Tmax'].values[i] - Tmin\n",
    "    rect = plt.Rectangle((tmin, Tmin), width, height, fc='gray', alpha=0.5)\n",
    "    axs[2,1].add_patch(rect)\n",
    "\n",
    "axs[2,0].scatter(x=dfViralData['Days'], y=dfViralData['Virus'], color=palette_2[1], marker=\"o\")\n",
    "axs[2,0].plot(t, median_VQl, lw=3, color=palette[4])\n",
    "axs[2,0].fill_between(t, confidence_VQl[0], confidence_VQl[1], color=palette[4], alpha=0.3, lw=1.5)\n",
    "axs[2,0].hlines(y = 5e1, xmin=0, xmax=25, color='gray', lw=2, ls='--')\n",
    "axs[2,0].set_yscale('log')\n",
    "axs[2,0].set_xlim((0, 22))\n",
    "axs[2,0].set_ylim((1e1, 2e7))\n",
    "\n",
    "axs[2,1].plot(t, median_TQl, lw=3, color=palette[4])\n",
    "axs[2,1].fill_between(t, confidence_TQl[0], confidence_TQl[1], color=palette[4], alpha=0.3, lw=1.5)\n",
    "axs[2,1].hlines(y = 1e7, xmin=0, xmax=25, color='gray', lw=2, ls='--')\n",
    "axs[2,1].set_yscale('log')\n",
    "axs[2,1].set_xlim((0, 22))\n",
    "axs[2,1].set_ylim((0.1e6, 1.5e7))\n",
    "\n",
    "axs[0,0].set_ylabel('Viral load')\n",
    "axs[0,1].set_ylabel('T cell level')\n",
    "axs[1,0].set_ylabel('Viral load')\n",
    "axs[1,1].set_ylabel('T cell level')\n",
    "axs[2,0].set_ylabel('Viral load')\n",
    "axs[2,1].set_ylabel('T cell level')\n",
    "\n",
    "axs[0,0].text(0.9, 0.93, r'\\textbf{a)}', transform=axs[0,0].transAxes, fontsize=22, va='top', ha='left')\n",
    "axs[0,1].text(0.9, 0.93, r'\\textbf{b)}', transform=axs[0,1].transAxes, fontsize=22, va='top', ha='left')\n",
    "axs[1,0].text(0.9, 0.93, r'\\textbf{c)}', transform=axs[1,0].transAxes, fontsize=22, va='top', ha='left')\n",
    "axs[1,1].text(0.9, 0.93, r'\\textbf{d)}', transform=axs[1,1].transAxes, fontsize=22, va='top', ha='left')\n",
    "axs[2,0].text(0.9, 0.93, r'\\textbf{e)}', transform=axs[2,0].transAxes, fontsize=22, va='top', ha='left')\n",
    "axs[2,1].text(0.9, 0.93, r'\\textbf{f)}', transform=axs[2,1].transAxes, fontsize=22, va='top', ha='left')\n",
    "\n",
    "axs[2,0].set_xlabel('Days')\n",
    "axs[2,1].set_xlabel('Days')\n",
    "\n",
    "# plt.savefig(\"influenza_graphs_fix.svg\", transparent=True)\n",
    "# plt.savefig(\"influenza_graphs.pdf\", transparent=True)\n",
    "\n",
    "plt.show()"
   ]
  },
  {
   "cell_type": "markdown",
   "id": "3826e7d3-0557-41aa-9b64-d3c04eabae20",
   "metadata": {},
   "source": [
    "### Parameter distribution"
   ]
  },
  {
   "cell_type": "code",
   "execution_count": 137,
   "id": "40111b09-9db5-4b69-a643-97a41501027e",
   "metadata": {},
   "outputs": [],
   "source": [
    "dfParams_quant['Strategy'] = 'I'\n",
    "dfParams_quant_T['Strategy'] = 'II'\n",
    "dfParams_qual['Strategy'] = 'III'\n",
    "dfParams_all = pd.concat([dfParams_quant, dfParams_quant_T, dfParams_qual])\n",
    "# dfParams_all = dfParams_quant.copy()"
   ]
  },
  {
   "cell_type": "code",
   "execution_count": 141,
   "id": "4678f2e3-2c0d-4fc4-90aa-8d42ea072b56",
   "metadata": {},
   "outputs": [
    {
     "data": {
      "image/png": "[encoded data removed]",
      "text/plain": [
       "<Figure size 600x600 with 1 Axes>"
      ]
     },
     "metadata": {},
     "output_type": "display_data"
    }
   ],
   "source": [
    "fig, axs = plt.subplots(nrows=1, ncols=1, figsize=(6,6), facecolor='white')\n",
    "\n",
    "colors = [palette[0], palette[2], palette[4]]\n",
    "\n",
    "axs = sns.violinplot(data=dfParams_all, x='Parameters', y='Values', hue='Strategy', log_scale=True,\n",
    "               palette=colors, alpha=0.75, linewidth=1.0, density_norm=\"count\", gap=0.2,\n",
    "               inner=\"quart\", saturation=1, inner_kws=dict(linewidth=2))\n",
    "\n",
    "sns.despine(offset=10, trim=True);\n",
    "\n",
    "axs.text(0.05, 0.95, r'\\textbf{a)}', transform=axs.transAxes, fontsize=22, va='top', ha='left')\n",
    "\n",
    "plt.legend([],[], frameon=False)\n",
    "\n",
    "# plt.savefig(\"influenza_boots_fix.svg\", transparent=True)\n",
    "# plt.savefig(\"influenza_boots_fix.pdf\", transparent=True)\n",
    "\n",
    "plt.show()"
   ]
  },
  {
   "cell_type": "code",
   "execution_count": 46,
   "id": "50e6386b-57d4-4dd9-8fd8-46b563c4aae1",
   "metadata": {},
   "outputs": [],
   "source": [
    "dirPath = 'influenza/profilesData_fix/'"
   ]
  },
  {
   "cell_type": "code",
   "execution_count": 47,
   "id": "faebfe07-df0b-4c82-9d14-aa9203a7edc0",
   "metadata": {},
   "outputs": [],
   "source": [
    "df_bet_qt = pd.read_csv(dirPath+'beta_profile_qt.dat', sep=' ', names=parNames).filter(['$\\\\beta$', 'RSS'])\n",
    "df_delI_qt = pd.read_csv(dirPath+'delI_profile_qt.dat', sep=' ', names=parNames).filter(['$\\\\delta_I$', 'RSS'])\n",
    "df_p_qt = pd.read_csv(dirPath+'p_profile_qt.dat', sep=' ', names=parNames).filter(['$p$', 'RSS'])\n",
    "df_r_qt = pd.read_csv(dirPath+'r_profile_qt.dat', sep=' ', names=parNames).filter(['$r$', 'RSS'])"
   ]
  },
  {
   "cell_type": "code",
   "execution_count": 48,
   "id": "7f67b0fa-e658-46ba-ad6e-95c2fcf017b4",
   "metadata": {},
   "outputs": [],
   "source": [
    "df_bet_ql = pd.read_csv(dirPath+'beta_profile_ql.dat', sep=' ', names=parNames).filter(['$\\\\beta$', 'RSS'])\n",
    "df_delI_ql = pd.read_csv(dirPath+'delI_profile_ql.dat', sep=' ', names=parNames).filter(['$\\\\delta_I$', 'RSS'])\n",
    "df_p_ql = pd.read_csv(dirPath+'p_profile_ql.dat', sep=' ', names=parNames).filter(['$p$', 'RSS'])\n",
    "df_r_ql = pd.read_csv(dirPath+'r_profile_ql.dat', sep=' ', names=parNames).filter(['$r$', 'RSS'])"
   ]
  },
  {
   "cell_type": "code",
   "execution_count": 92,
   "id": "95dc35eb-9eca-4ae5-a213-370ba0d9c1b7",
   "metadata": {},
   "outputs": [
    {
     "data": {
      "image/png": "[encoded data removed]",
      "text/plain": [
       "<Figure size 600x600 with 4 Axes>"
      ]
     },
     "metadata": {},
     "output_type": "display_data"
    }
   ],
   "source": [
    "fig, axs = plt.subplots(nrows=2, ncols=2, figsize=(6,6), facecolor='white', sharey=True)\n",
    "\n",
    "axs[0,0].plot(10**df_bet_qt['$\\\\beta$'], df_bet_qt['RSS'], lw=3, color=palette[0])\n",
    "axs[0,0].plot(10**df_bet_ql['$\\\\beta$'], df_bet_ql['RSS'], lw=3, color=palette[4])\n",
    "axs[0,0].scatter(dfParam_describe_qt.median()['$\\\\beta$'], 10, color=palette[0],\n",
    "                 marker='*', s=150, zorder=2)\n",
    "axs[0,0].scatter(dfParam_describe_ql.median()['$\\\\beta$'], 10, color=palette[4],\n",
    "                 marker='*', s=150, zorder=2)\n",
    "# axs[0,0].set_xscale('log')\n",
    "axs[0,0].set_xlabel('$\\\\beta$')\n",
    "axs[0,0].set_ylabel('RSS')\n",
    "axs[0,0].set_xlim((1e-8,1e-4))\n",
    "\n",
    "axs[0,1].plot(10**df_delI_qt['$\\\\delta_I$'], df_delI_qt['RSS'], lw=3, color=palette[0])\n",
    "axs[0,1].plot(10**df_delI_ql['$\\\\delta_I$'], df_delI_ql['RSS'], lw=3, color=palette[4])\n",
    "axs[0,1].scatter(dfParam_describe_qt.median()['$\\\\delta_I$'], 10, color=palette[0],\n",
    "                 marker='*', s=150, zorder=2)\n",
    "axs[0,1].scatter(dfParam_describe_ql.median()['$\\\\delta_I$'], 10, color=palette[4],\n",
    "                 marker='*', s=150, zorder=2)\n",
    "axs[0,1].set_xlabel('$\\\\delta_I$')\n",
    "axs[0,1].set_xlim((1e-8,1e-4))\n",
    "\n",
    "axs[1,0].plot(10**df_p_qt['$p$'], df_p_qt['RSS'], lw=3, color=palette[0])\n",
    "axs[1,0].plot(10**df_p_ql['$p$'], df_p_ql['RSS'], lw=3, color=palette[4])\n",
    "axs[1,0].scatter(dfParam_describe_qt.median()['$p$'], 10, color=palette[0],\n",
    "                 marker='*', s=150, zorder=2)\n",
    "axs[1,0].scatter(dfParam_describe_ql.median()['$p$'], 10, color=palette[4],\n",
    "                 marker='*', s=150, zorder=2)\n",
    "axs[1,0].set_xlabel('$p$')\n",
    "axs[1,0].set_ylabel('RSS')\n",
    "axs[1,0].set_xlim((1e-2,1e2))\n",
    "\n",
    "axs[1,1].plot(10**df_r_qt['$r$'], df_r_qt['RSS'], lw=3, color=palette[0])\n",
    "axs[1,1].plot(10**df_r_ql['$r$'], df_r_ql['RSS'], lw=3, color=palette[4])\n",
    "axs[1,1].scatter(dfParam_describe_qt.median()['$r$'], 10, color=palette[0],\n",
    "                 marker='*', s=150, zorder=2)\n",
    "axs[1,1].scatter(dfParam_describe_ql.median()['$r$'], 10, color=palette[4],\n",
    "                 marker='*', s=150, zorder=2)\n",
    "axs[1,1].set_xlabel('$r$')\n",
    "axs[1,1].set_xlim((1e-8,1e-4))\n",
    "\n",
    "for i in range(2):\n",
    "    for j in range(2):\n",
    "        axs[i,j].set_xscale('log')\n",
    "plt.setp(axs, ylim=(0,125))\n",
    "\n",
    "axs[0,0].text(0.81, 0.97, r'\\textbf{b)}', transform=axs[0,0].transAxes, fontsize=22, va='top', ha='left')\n",
    "axs[0,1].text(0.81, 0.97, r'\\textbf{c)}', transform=axs[0,1].transAxes, fontsize=22, va='top', ha='left')\n",
    "axs[1,0].text(0.81, 0.97, r'\\textbf{d)}', transform=axs[1,0].transAxes, fontsize=22, va='top', ha='left')\n",
    "axs[1,1].text(0.81, 0.97, r'\\textbf{e)}', transform=axs[1,1].transAxes, fontsize=22, va='top', ha='left')\n",
    "\n",
    "plt.tight_layout(w_pad=0.5, h_pad=0.1)\n",
    "# plt.savefig(\"influenza_profiles_fix.svg\", transparent=True)\n",
    "\n",
    "plt.show()"
   ]
  },
  {
   "cell_type": "code",
   "execution_count": null,
   "id": "9bd26fbb-8231-4a78-a2c9-048edc8428e1",
   "metadata": {},
   "outputs": [],
   "source": []
  }
 ],
 "metadata": {
  "kernelspec": {
   "display_name": "Python 3 (ipykernel)",
   "language": "python",
   "name": "python3"
  },
  "language_info": {
   "codemirror_mode": {
    "name": "ipython",
    "version": 3
   },
   "file_extension": ".py",
   "mimetype": "text/x-python",
   "name": "python",
   "nbconvert_exporter": "python",
   "pygments_lexer": "ipython3",
   "version": "3.12.8"
  }
 },
 "nbformat": 4,
 "nbformat_minor": 5
}
